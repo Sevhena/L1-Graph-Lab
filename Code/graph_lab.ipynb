{
 "cells": [
  {
   "cell_type": "markdown",
   "id": "2d65a8a5-860e-41d8-ac27-fabb65da8243",
   "metadata": {},
   "source": [
    "# Graph Lab"
   ]
  },
  {
   "cell_type": "markdown",
   "id": "0287692e-0294-4c54-8ad3-c8d8425ab85c",
   "metadata": {},
   "source": [
    "## Header information:\n",
    "\n",
    "  - Author #1: Sevhena Walker (walkes31@mcmaster.ca)\n",
    "  - Author #2: Firstname Lastname (email@mcmaster.ca)\n",
    "  - Gitlab URL: http://gitlab.cas.mcmaster.ca/...\n",
    "  - Avenue to Learn group name: graph-52"
   ]
  },
  {
   "cell_type": "markdown",
   "id": "01b57d9f",
   "metadata": {},
   "source": [
    "Metrics\n",
    "\n",
    "1. Number of nodes: 302 nodes\n",
    "2. Number of edges: 406 edges\n",
    "3. Average Degree of nodes: "
   ]
  },
  {
   "cell_type": "markdown",
   "id": "02fc4cc3",
   "metadata": {},
   "source": [
    "1. Execution time\n",
    "2. How well does each algo do on edge cases\n",
    "3. \n"
   ]
  },
  {
   "cell_type": "code",
   "execution_count": 2,
   "id": "d930eca9-bac7-44ed-b626-037b948c8a9b",
   "metadata": {},
   "outputs": [
    {
     "ename": "ModuleNotFoundError",
     "evalue": "No module named 'LondonGraphBuilder'",
     "output_type": "error",
     "traceback": [
      "\u001b[1;31m---------------------------------------------------------------------------\u001b[0m",
      "\u001b[1;31mModuleNotFoundError\u001b[0m                       Traceback (most recent call last)",
      "Cell \u001b[1;32mIn [2], line 1\u001b[0m\n\u001b[1;32m----> 1\u001b[0m \u001b[38;5;28;01mfrom\u001b[39;00m \u001b[38;5;21;01mLondonGraphBuilder\u001b[39;00m \u001b[38;5;28;01mimport\u001b[39;00m LondonGraphBuilder\n\u001b[0;32m      2\u001b[0m \u001b[38;5;28;01mfrom\u001b[39;00m \u001b[38;5;21;01mgraph\u001b[39;00m \u001b[38;5;28;01mimport\u001b[39;00m Graph\n\u001b[0;32m      3\u001b[0m \u001b[38;5;28;01mfrom\u001b[39;00m \u001b[38;5;21;01mDijkstra\u001b[39;00m \u001b[38;5;28;01mimport\u001b[39;00m Dijkstra\n",
      "\u001b[1;31mModuleNotFoundError\u001b[0m: No module named 'LondonGraphBuilder'"
     ]
    }
   ],
   "source": [
    "from LondonGraphBuilder.py import LondonGraphBuilder\n",
    "from graph.py import Graph\n",
    "from Dijkstra.py import Dijkstra\n",
    "from MetricExtractor.py import *\n",
    "\n",
    "graph = Graph(LondonGraphBuilder())\n",
    "\n",
    "start = 46\n",
    "end = 4\n",
    "\n",
    "Dijkstra(graph, start, numNodes(graph))\n",
    "\n",
    "dijkstra = Dijkstra(graph, start, numNodes(graph))\n",
    "\n",
    "\n",
    "path1,path2 = dijkstra.pathTo(end)\n",
    "\n",
    "print(\"Path 1\")\n",
    "for edge in path1:\n",
    "    print(edge.start.name,\"to\", edge.to.name)\n",
    "\n",
    "print(\"Path 2\")\n",
    "for edge in path2:\n",
    "    print(edge.start.name,\"to\", edge.to.name)\n",
    "\n",
    "print(dijkstra.timeTo[end])\n",
    "print(dijkstra.timeToC[end], dijkstra.connectionsTo[end])\n",
    "#print(graph.getAdjList().keys())"
   ]
  }
 ],
 "metadata": {
  "kernelspec": {
   "display_name": "Python 3 (ipykernel)",
   "language": "python",
   "name": "python3"
  },
  "language_info": {
   "codemirror_mode": {
    "name": "ipython",
    "version": 3
   },
   "file_extension": ".py",
   "mimetype": "text/x-python",
   "name": "python",
   "nbconvert_exporter": "python",
   "pygments_lexer": "ipython3",
   "version": "3.10.6"
  },
  "vscode": {
   "interpreter": {
    "hash": "69646286424c5aaab8ae138c3726c6b59f7087a0b895c0ec66acc2773b7bac7b"
   }
  }
 },
 "nbformat": 4,
 "nbformat_minor": 5
}
