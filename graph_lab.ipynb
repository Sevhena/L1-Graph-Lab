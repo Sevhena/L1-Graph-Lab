{
 "cells": [
  {
   "cell_type": "markdown",
   "id": "2d65a8a5-860e-41d8-ac27-fabb65da8243",
   "metadata": {},
   "source": [
    "# Graph Lab"
   ]
  },
  {
   "cell_type": "markdown",
   "id": "0287692e-0294-4c54-8ad3-c8d8425ab85c",
   "metadata": {
    "tags": []
   },
   "source": [
    "## Header information:\n",
    "\n",
    "  - Author #1: Sevhena Walker (walkes31@mcmaster.ca)\n",
    "  - Author #2: Firstname Lastname (email@mcmaster.ca)\n",
    "  - Gitlab URL: http://gitlab.cas.mcmaster.ca/...\n",
    "  - Avenue to Learn group name: graph-52"
   ]
  },
  {
   "cell_type": "markdown",
   "id": "a0df7ce5-0b1f-4eba-ba0a-b85521ce437c",
   "metadata": {
    "tags": []
   },
   "source": [
    "#### **Graph loaded from the CSV files**"
   ]
  },
  {
   "cell_type": "code",
   "execution_count": 1,
   "id": "d930eca9-bac7-44ed-b626-037b948c8a9b",
   "metadata": {},
   "outputs": [],
   "source": [
    "from Code.MainModules.LondonGraphBuilder import LondonGraphBuilder\n",
    "from Code.MainModules.graph import Graph\n",
    "\n",
    "graph = Graph(LondonGraphBuilder())"
   ]
  },
  {
   "cell_type": "markdown",
   "id": "01b57d9f",
   "metadata": {
    "tags": []
   },
   "source": [
    "#### **Metric Calculations**"
   ]
  },
  {
   "cell_type": "code",
   "execution_count": 2,
   "id": "c3531d8a-ef31-4f4c-9b09-47658b9d1f2e",
   "metadata": {},
   "outputs": [],
   "source": [
    "from Code.MainModules.MetricExtractor import *"
   ]
  },
  {
   "cell_type": "markdown",
   "id": "4dfaa060-aaa0-478b-9602-c966e2059831",
   "metadata": {},
   "source": [
    "1. Number of Nodes"
   ]
  },
  {
   "cell_type": "code",
   "execution_count": 3,
   "id": "a8120c57-a61e-4dc1-82b1-6e4cd687dfdf",
   "metadata": {},
   "outputs": [
    {
     "data": {
      "text/plain": [
       "302"
      ]
     },
     "execution_count": 3,
     "metadata": {},
     "output_type": "execute_result"
    }
   ],
   "source": [
    "numNodes(graph)"
   ]
  },
  {
   "cell_type": "markdown",
   "id": "56caadc2-fe3b-4d78-b41f-1a6708d66dc5",
   "metadata": {},
   "source": [
    "2. Number of Edges"
   ]
  },
  {
   "cell_type": "code",
   "execution_count": 4,
   "id": "9edd6752-6dc8-495b-a507-e95504a43d2e",
   "metadata": {},
   "outputs": [
    {
     "data": {
      "text/plain": [
       "406"
      ]
     },
     "execution_count": 4,
     "metadata": {},
     "output_type": "execute_result"
    }
   ],
   "source": [
    "numEdges(graph)"
   ]
  },
  {
   "cell_type": "markdown",
   "id": "75a94d3d-23e6-44d2-8bbf-db25d537aaca",
   "metadata": {},
   "source": [
    "3. Average Node Degree"
   ]
  },
  {
   "cell_type": "code",
   "execution_count": 5,
   "id": "4c8f53dc-265b-45d6-8189-49678cd29344",
   "metadata": {},
   "outputs": [
    {
     "data": {
      "text/plain": [
       "2.6887417218543046"
      ]
     },
     "execution_count": 5,
     "metadata": {},
     "output_type": "execute_result"
    }
   ],
   "source": [
    "avgDegree(graph)"
   ]
  },
  {
   "cell_type": "markdown",
   "id": "1a6d178a-f4b1-40db-8b63-1702f825e577",
   "metadata": {
    "tags": []
   },
   "source": [
    "#### **Plotting the Node Distribution**"
   ]
  },
  {
   "cell_type": "code",
   "execution_count": 6,
   "id": "331ed317",
   "metadata": {
    "tags": []
   },
   "outputs": [],
   "source": [
    "import numpy as np\n",
    "import matplotlib.pyplot as plt\n",
    "\n",
    "def graphDistribution(graph):\n",
    "    degreeDist = degreeDistribution(graph)\n",
    "\n",
    "    sortedDict = {k: degreeDist[k] for k in sorted(degreeDist)}\n",
    "\n",
    "    x = np.array(list(sortedDict.keys()))\n",
    "    y = np.array(list(sortedDict.values()))\n",
    "\n",
    "    plt.bar(x,y)\n",
    "\n",
    "    plt.title(\"Node Degree Distribution\")\n",
    "    plt.xlabel(\"Degree\")\n",
    "    plt.ylabel(\"Num of Nodes\")\n",
    "\n",
    "    plt.show()"
   ]
  },
  {
   "cell_type": "code",
   "execution_count": 7,
   "id": "f396c0f4",
   "metadata": {},
   "outputs": [
    {
     "data": {
      "image/png": "[encoded data removed]",
      "text/plain": [
       "<Figure size 640x480 with 1 Axes>"
      ]
     },
     "metadata": {},
     "output_type": "display_data"
    }
   ],
   "source": [
    "graphDistribution(graph)"
   ]
  },
  {
   "cell_type": "markdown",
   "id": "1b121111-1482-4e9f-9cbc-74a5e8468af9",
   "metadata": {},
   "source": [
    "#### **Benchmarks**\n",
    "\n",
    "1. Execution Time\n",
    "2. Memory\n",
    "3. "
   ]
  },
  {
   "cell_type": "code",
   "execution_count": null,
   "id": "3b3e9c61-44c7-4641-af5f-c3cad4d4d992",
   "metadata": {},
   "outputs": [],
   "source": []
  },
  {
   "cell_type": "code",
   "execution_count": 8,
   "id": "6f6bbca1-6cf5-44b6-8bf3-c1f23663f9bc",
   "metadata": {},
   "outputs": [
    {
     "name": "stdout",
     "output_type": "stream",
     "text": [
      "Dijkstra :  1.9986629486083984\n",
      "A star :  3.999471664428711\n"
     ]
    }
   ],
   "source": [
    "import time\n",
    "from Code.PathFinders.Dijkstra import Dijkstra\n",
    "from Code.PathFinders.AstarAlgo import AstarAlgo\n",
    "\n",
    "start = 303\n",
    "end = 4\n",
    "\n",
    "start_time = time.time()\n",
    "\n",
    "dijkstra = Dijkstra(graph, start)\n",
    "dijkstra.pathTo(end)\n",
    "\n",
    "end_time = time.time()\n",
    "\n",
    "print(\"Dijkstra : \",(end_time-start_time)*1000)\n",
    "\n",
    "start_time = time.time()\n",
    "\n",
    "astar = AstarAlgo(graph, start)\n",
    "astar.pathTo(end)\n",
    "\n",
    "end_time = time.time()\n",
    "\n",
    "print(\"A star : \",(end_time-start_time)*1000)"
   ]
  },
  {
   "cell_type": "markdown",
   "id": "53d4e52a-9690-4a59-886d-986428f550ad",
   "metadata": {},
   "source": [
    "#### **Subway Patrol Planning**"
   ]
  },
  {
   "cell_type": "code",
   "execution_count": 9,
   "id": "3388cc54-e4c0-4573-8429-33c7e59f75e6",
   "metadata": {},
   "outputs": [
    {
     "name": "stdout",
     "output_type": "stream",
     "text": [
      "250\n",
      "48\n",
      "126\n",
      "60\n",
      "151\n",
      "49\n",
      "87\n",
      "44\n",
      "17\n",
      "<Bank( 13 )>\t\t to\t <St. Paul's( 250 )>\n",
      "<St. Paul's( 250 )>\t\t to\t <Chancery Lane( 48 )>\n",
      "<Chancery Lane( 48 )>\t\t to\t <Holborn( 126 )>\n",
      "<Holborn( 126 )>\t\t to\t <Covent Garden( 60 )>\n",
      "<Covent Garden( 60 )>\t\t to\t <Leicester Square( 151 )>\n",
      "<Leicester Square( 151 )>\t\t to\t <Charing Cross( 49 )>\n",
      "<Charing Cross( 49 )>\t\t to\t <Embankment( 87 )>\n",
      "<Embankment( 87 )>\t\t to\t <Temple( 255 )>\n",
      "<Temple( 255 )>\t\t to\t <Blackfriars( 25 )>\n",
      "<Blackfriars( 25 )>\t\t to\t <Mansion House( 161 )>\n",
      "<Mansion House( 161 )>\t\t to\t <Cannon Street( 44 )>\n",
      "<Cannon Street( 44 )>\t\t to\t <Mansion House( 161 )>\n",
      "<Mansion House( 161 )>\t\t to\t <Blackfriars( 25 )>\n",
      "<Blackfriars( 25 )>\t\t to\t <Temple( 255 )>\n",
      "<Temple( 255 )>\t\t to\t <Embankment( 87 )>\n",
      "<Embankment( 87 )>\t\t to\t <Waterloo( 279 )>\n",
      "<Waterloo( 279 )>\t\t to\t <Bank( 13 )>\n",
      "Edges: 17 Station Count: 17\n"
     ]
    }
   ],
   "source": [
    "from Code.MainModules.Itinerary import Itinerary\n",
    "\n",
    "import random\n",
    "\n",
    "itinerary = Itinerary(graph)\n",
    "\n",
    "#circle = random.sample(range(1,303),10)\n",
    "circle = [250,48,126,60,151,49,87,44,13]\n",
    "#circle = [11,55]\n",
    "\n",
    "circlePath = itinerary.shortestCycle(circle)\n",
    "\n",
    "stationCount = 0\n",
    "\n",
    "for edge in circlePath:\n",
    "    stationCount += 1\n",
    "    # if edge.start.id in circle:\n",
    "    #     print(\"\\nCheckpoint\")\n",
    "    #     circle.remove(edge.start.id)\n",
    "    print(\"<\" + edge.start.name + \"(\", edge.start.id, \")\" + \">\\t\\t\",\"to\\t\", \"<\" + edge.to.name + \"(\", edge.to.id, \")\" + \">\")\n",
    "\n",
    "print(\"Edges:\", len(circlePath), \"Station Count:\", stationCount)\n",
    "#print(graph.getAdjList().keys())"
   ]
  },
  {
   "cell_type": "code",
   "execution_count": null,
   "id": "46b27e9f-f2c6-42bf-b54e-151e4e48e8d2",
   "metadata": {},
   "outputs": [],
   "source": []
  },
  {
   "cell_type": "code",
   "execution_count": null,
   "id": "3ba6414f-4f66-49f6-92aa-96d4ef13baf7",
   "metadata": {},
   "outputs": [],
   "source": []
  }
 ],
 "metadata": {
  "kernelspec": {
   "display_name": "Python 3 (ipykernel)",
   "language": "python",
   "name": "python3"
  },
  "language_info": {
   "codemirror_mode": {
    "name": "ipython",
    "version": 3
   },
   "file_extension": ".py",
   "mimetype": "text/x-python",
   "name": "python",
   "nbconvert_exporter": "python",
   "pygments_lexer": "ipython3",
   "version": "3.10.6"
  },
  "toc-autonumbering": false,
  "toc-showcode": true,
  "toc-showmarkdowntxt": false,
  "toc-showtags": false,
  "vscode": {
   "interpreter": {
    "hash": "69646286424c5aaab8ae138c3726c6b59f7087a0b895c0ec66acc2773b7bac7b"
   }
  }
 },
 "nbformat": 4,
 "nbformat_minor": 5
}
